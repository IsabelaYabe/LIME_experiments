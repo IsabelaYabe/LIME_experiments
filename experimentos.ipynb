{
 "cells": [
  {
   "cell_type": "code",
   "execution_count": 1,
   "metadata": {},
   "outputs": [],
   "source": [
    "import numpy as np"
   ]
  },
  {
   "cell_type": "code",
   "execution_count": 119,
   "metadata": {},
   "outputs": [],
   "source": [
    "def importancia(W: np.array) -> np.array:\n",
    "    I = np.zeros(W.shape[1])  # Vetor de importância\n",
    "    for j in range(W.shape[1]):\n",
    "        soma = np.sum(np.abs(W[:, j]))\n",
    "        I[j] = np.sqrt(soma)\n",
    "    return I\n",
    "\n",
    "def c(V: list, W: np.array, I: np.array) -> float:\n",
    "    c_value = 0  # Valor de c\n",
    "    for j in range(W.shape[1]):\n",
    "        if any(W[i, j] > 0 for i in V):  # Se a característica j é relevante\n",
    "            c_value += I[j]\n",
    "    return c_value\n",
    "\n",
    "def guloso(W: np.array, I: np.array, B: int) -> list:\n",
    "    nao_selecionados = list(range(W.shape[0]))  # Lista de índices não selecionados\n",
    "    V = []  # Conjunto de características selecionadas\n",
    "    itens = 0  # Número de elementos selecionados\n",
    "    c_value = 0  # Valor de c\n",
    "    \n",
    "    while itens < B and nao_selecionados:\n",
    "        best_gain = -np.inf  # Valor de ganho máximo\n",
    "        best_item = None  # Índice do melhor item \n",
    "        \n",
    "        for item in nao_selecionados:  # Itera sobre os itens não selecionados\n",
    "            lista_temp = V + [item]\n",
    "            gain = c(lista_temp, W, I) - c(V, W, I)\n",
    "            if gain > best_gain:\n",
    "                best_gain = gain  # Atualiza o valor de ganho máximo\n",
    "                best_item = item  # Atualiza o melhor item\n",
    "        \n",
    "        if best_item is not None:\n",
    "            V.append(best_item)  # Adiciona o melhor item ao conjunto\n",
    "            nao_selecionados.remove(best_item)  # Remove o melhor item dos não selecionados\n",
    "            itens += 1\n",
    "            c_value += best_gain\n",
    "    \n",
    "    return V"
   ]
  },
  {
   "cell_type": "code",
   "execution_count": 120,
   "metadata": {},
   "outputs": [
    {
     "name": "stdout",
     "output_type": "stream",
     "text": [
      "Matriz de importância:  [2.         2.         2.23606798]\n",
      "Cobertura:  6.23606797749979\n",
      "Melhor conjunto:  [0, 1]\n"
     ]
    }
   ],
   "source": [
    "# Exemplo de uso\n",
    "W = np.array([[1, 2, 1], [-1, 0, 2], [-2, 2, -2]])  # Exemplo de matriz W\n",
    "I = importancia(W)\n",
    "print(\"Matriz de importância: \", I)\n",
    "\n",
    "V = [0, 1]  # Lista de índices das instâncias selecionadas\n",
    "print(\"Cobertura: \", c(V, W, I))\n",
    "\n",
    "V_linha = guloso(W, I, 2)\n",
    "print(\"Melhor conjunto: \", V_linha)"
   ]
  }
 ],
 "metadata": {
  "kernelspec": {
   "display_name": "Python 3",
   "language": "python",
   "name": "python3"
  },
  "language_info": {
   "codemirror_mode": {
    "name": "ipython",
    "version": 3
   },
   "file_extension": ".py",
   "mimetype": "text/x-python",
   "name": "python",
   "nbconvert_exporter": "python",
   "pygments_lexer": "ipython3",
   "version": "3.12.3"
  }
 },
 "nbformat": 4,
 "nbformat_minor": 2
}
